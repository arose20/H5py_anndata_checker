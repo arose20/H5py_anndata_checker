{
 "cells": [
  {
   "cell_type": "markdown",
   "id": "requested-relations",
   "metadata": {},
   "source": [
    "# Import packages"
   ]
  },
  {
   "cell_type": "code",
   "execution_count": null,
   "id": "comparable-winning",
   "metadata": {},
   "outputs": [],
   "source": [
    "import numpy as np\n",
    "import pandas as pd\n",
    "from scipy import sparse\n",
    "from scipy.sparse import lil_matrix\n",
    "import anndata\n",
    "import time\n",
    "from concurrent.futures import ThreadPoolExecutor\n",
    "from numba import njit\n",
    "import warnings\n",
    "warnings.filterwarnings(\"ignore\")"
   ]
  },
  {
   "cell_type": "markdown",
   "id": "further-mechanics",
   "metadata": {},
   "source": [
    "# Create core data"
   ]
  },
  {
   "cell_type": "code",
   "execution_count": null,
   "id": "photographic-planet",
   "metadata": {},
   "outputs": [],
   "source": [
    "# Define data size\n",
    "data_size = 5000\n",
    "num_features = 36000\n",
    "batch_size = 1000\n",
    "\n",
    "# Set random seed for reproducibility\n",
    "np.random.seed(42)\n",
    "\n",
    "# Create column values using vectorized operations\n",
    "anno_LVL2_values = np.random.choice(['macrophage', 'fibroblast', 'monocyte', 'hepatocyte', 'erythroid', 'cardiomyocyte'], size=data_size, p=[0.3, 0.3, 0.1, 0.1, 0.1, 0.1])\n",
    "anno_LVL1_mapping = {'haematopoetic': ['macrophage', 'monocyte', 'erythroid'], 'stromal': ['cardiomyocyte', 'fibroblast'], 'epithelial': ['hepatocyte']}\n",
    "anno_LVL1_values = np.array([next(key for key, value in anno_LVL1_mapping.items() if cell_type in value) for cell_type in anno_LVL2_values])\n",
    "\n",
    "# New layers with preallocated memory\n",
    "layer1_values = np.random.randn(data_size, num_features).astype(np.float32)\n",
    "layer2_values = np.random.randn(data_size, num_features).astype(np.float32)\n",
    "\n",
    "study_values = np.full(data_size, 'Test_study')\n",
    "\n",
    "biological_unit_values = np.random.choice(['cell', 'nuclei'], size=data_size, p=[0.7, 0.3])\n",
    "\n",
    "# Use np.random.choice with replace=True for 'donor' column\n",
    "donor_values = np.random.choice(['Donor1', 'Donor2', 'Donor3', 'Donor4', 'Donor5'], size=data_size, replace=True, p=[0.2, 0.2, 0.2, 0.2, 0.2])\n",
    "\n",
    "# Create the AnnData object without preallocating memory\n",
    "adata = anndata.AnnData(\n",
    "    X=lil_matrix((data_size, num_features), dtype=np.float32),\n",
    "    layers={'layer1': layer1_values, 'layer2': layer2_values},\n",
    "    obs=pd.DataFrame({\n",
    "        'anno_LVL1': anno_LVL1_values,\n",
    "        'anno_LVL2': anno_LVL2_values,\n",
    "        'study': study_values,\n",
    "        'donor': donor_values,\n",
    "        'biological_unit': biological_unit_values\n",
    "    })\n",
    ")\n",
    "\n",
    "# Set index explicitly to avoid ImplicitModificationWarning\n",
    "adata.obs.index = adata.obs.index.astype(str)\n",
    "\n",
    "# Function to fill a batch of the sparse matrix using numba\n",
    "@njit(parallel=True)\n",
    "def fill_batch_numba(indices, col_indices, row_indices, values, X):\n",
    "    for i in range(indices.shape[0]):\n",
    "        for j in range(col_indices.shape[1]):\n",
    "            X[indices[i], col_indices[i, j]] += values[i]\n",
    "\n",
    "# Function to fill a batch of the sparse matrix\n",
    "def fill_batch(start, end, X):\n",
    "    indices = np.random.choice(data_size, size=batch_size, replace=True)\n",
    "    col_indices = np.tile(np.arange(start, end), (indices.shape[0], 1))\n",
    "    row_indices = np.repeat(indices, end - start)\n",
    "    values = np.random.uniform(1, 100, size=row_indices.shape[0]).astype(np.float32)\n",
    "    \n",
    "    fill_batch_numba(indices, col_indices, row_indices, values, X)\n",
    "\n",
    "# Use ThreadPoolExecutor for parallel processing\n",
    "with ThreadPoolExecutor() as executor:\n",
    "    for i in range(0, num_features, batch_size):\n",
    "        executor.submit(fill_batch, i, min(i + batch_size, num_features), adata.X)\n",
    "\n",
    "# Convert the lil_matrix to CSR format\n",
    "adata.X = adata.X.tocsr()\n",
    "\n",
    "# Randomly set 40% of values to 0 using vectorized operation\n",
    "mask = np.random.choice([1, 0], size=adata.X.nnz, p=[0.6, 0.4])\n",
    "\n",
    "# Apply the mask to the sparse matrix data\n",
    "adata.X.data = adata.X.data * mask"
   ]
  },
  {
   "cell_type": "code",
   "execution_count": null,
   "id": "governing-hierarchy",
   "metadata": {},
   "outputs": [],
   "source": [
    "adata"
   ]
  },
  {
   "cell_type": "code",
   "execution_count": null,
   "id": "fixed-cleaner",
   "metadata": {},
   "outputs": [],
   "source": [
    "adata.layers.keys()"
   ]
  },
  {
   "cell_type": "code",
   "execution_count": null,
   "id": "understood-malpractice",
   "metadata": {},
   "outputs": [],
   "source": [
    "adata.layers['layer2'] = sparse.csr_matrix(adata.layers['layer2'])"
   ]
  },
  {
   "cell_type": "code",
   "execution_count": null,
   "id": "hairy-humidity",
   "metadata": {},
   "outputs": [],
   "source": [
    "type(adata.layers['layer1'])"
   ]
  },
  {
   "cell_type": "code",
   "execution_count": null,
   "id": "ruled-explanation",
   "metadata": {},
   "outputs": [],
   "source": [
    "type(adata.layers['layer2'])"
   ]
  },
  {
   "cell_type": "code",
   "execution_count": null,
   "id": "german-lightweight",
   "metadata": {},
   "outputs": [],
   "source": [
    "adata.var['high_var'] = np.random.choice(['yes','no'], size=len(adata.var), p=[0.6, 0.4])"
   ]
  },
  {
   "cell_type": "code",
   "execution_count": null,
   "id": "fabulous-caribbean",
   "metadata": {},
   "outputs": [],
   "source": [
    "adata.var['hgnc'] = 'template'"
   ]
  },
  {
   "cell_type": "code",
   "execution_count": null,
   "id": "contemporary-appearance",
   "metadata": {},
   "outputs": [],
   "source": [
    "adata.obs.index = 'check_index_' + adata.obs.index\n",
    "adata.obs"
   ]
  },
  {
   "cell_type": "code",
   "execution_count": null,
   "id": "governmental-discount",
   "metadata": {},
   "outputs": [],
   "source": [
    "adata.var.index = 'check_var_' + adata.var.index\n",
    "adata.var"
   ]
  },
  {
   "cell_type": "code",
   "execution_count": null,
   "id": "identified-function",
   "metadata": {},
   "outputs": [],
   "source": [
    "adata.write('test_adata.h5ad')"
   ]
  },
  {
   "cell_type": "code",
   "execution_count": null,
   "id": "steady-chocolate",
   "metadata": {},
   "outputs": [],
   "source": []
  },
  {
   "cell_type": "code",
   "execution_count": null,
   "id": "military-officer",
   "metadata": {},
   "outputs": [],
   "source": []
  },
  {
   "cell_type": "code",
   "execution_count": null,
   "id": "basic-february",
   "metadata": {},
   "outputs": [],
   "source": [
    "adata.obs"
   ]
  },
  {
   "cell_type": "code",
   "execution_count": null,
   "id": "further-baker",
   "metadata": {},
   "outputs": [],
   "source": []
  },
  {
   "cell_type": "code",
   "execution_count": null,
   "id": "turned-turkey",
   "metadata": {},
   "outputs": [],
   "source": []
  }
 ],
 "metadata": {
  "language_info": {
   "name": "python"
  }
 },
 "nbformat": 4,
 "nbformat_minor": 5
}
