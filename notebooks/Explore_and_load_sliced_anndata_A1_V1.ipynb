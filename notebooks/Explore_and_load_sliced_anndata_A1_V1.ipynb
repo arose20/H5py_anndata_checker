{
 "cells": [
  {
   "cell_type": "markdown",
   "id": "catholic-painting",
   "metadata": {},
   "source": [
    "## Import packages"
   ]
  },
  {
   "cell_type": "code",
   "execution_count": null,
   "id": "creative-cleveland",
   "metadata": {},
   "outputs": [],
   "source": [
    "import os, sys\n",
    "\n",
    "sys.path.append('../')\n",
    "\n",
    "import src.scarftools as scarftools"
   ]
  },
  {
   "cell_type": "markdown",
   "id": "generous-advantage",
   "metadata": {},
   "source": [
    "## Set directory for file of interest"
   ]
  },
  {
   "cell_type": "code",
   "execution_count": null,
   "id": "architectural-commons",
   "metadata": {},
   "outputs": [],
   "source": [
    "data_dir = scarftools.data_dir\n",
    "print(data_dir)"
   ]
  },
  {
   "cell_type": "markdown",
   "id": "tough-gathering",
   "metadata": {},
   "source": [
    "## See what is in the file"
   ]
  },
  {
   "cell_type": "code",
   "execution_count": null,
   "id": "executive-briefing",
   "metadata": {},
   "outputs": [],
   "source": [
    "scarftools.generate_anndata_report(data_dir)"
   ]
  },
  {
   "cell_type": "markdown",
   "id": "fleet-merchandise",
   "metadata": {},
   "source": [
    "## See unique values in columns of interest"
   ]
  },
  {
   "cell_type": "code",
   "execution_count": null,
   "id": "voluntary-payment",
   "metadata": {},
   "outputs": [],
   "source": [
    "dataframe = 'obs' # choose obs or var \n",
    "columns = [\n",
    "    'LVL0', \n",
    "    'LVL1',\n",
    "    'study',\n",
    "    ]\n",
    "output_dataframe_name = 'df_investigate'\n",
    "\n",
    "scarftools.investigate_obs_columns_unique_contents(data_dir, output_dataframe_name, dataframe, columns)"
   ]
  },
  {
   "cell_type": "markdown",
   "id": "distinguished-advocate",
   "metadata": {},
   "source": [
    "## Note: Displaying Column-Level Unique Categories, Not the Entire DataFrame!\n",
    "\n",
    "If you had 5 unique categories in a column, removed 2 unique values leaving only 3 unique values, the column-level metadata may still report 5 unique categories and this is what h5py will report to the user. \n",
    "\n",
    "This discrepancy can occur if you haven't updated the column metadata by removing unused categories using the following code:\n",
    "\n",
    "```python\n",
    "# Update the column-level metadata to remove unused categories\n",
    "df_subset['column'] = df_subset['column'].cat.remove_unused_categories()\n",
    "```\n",
    "\n",
    "To account for above, prior to loading in the data check that all the unique categories of interest are actually still in the data and haven't been sliced out"
   ]
  },
  {
   "cell_type": "markdown",
   "id": "lyric-string",
   "metadata": {},
   "source": [
    "## Make a pandas dataframe for only data of interest and selected columns from obs"
   ]
  },
  {
   "cell_type": "code",
   "execution_count": null,
   "id": "unlikely-falls",
   "metadata": {},
   "outputs": [],
   "source": [
    "filter_column = 'LVL1'\n",
    "filter_values = [\n",
    "    'Cardiomyocytes', \n",
    "    'Epithelial_cells',\n",
    "    'Endothelial',\n",
    "    'Hepatocytes'\n",
    "    ]\n",
    "additional_cols_keep = [\n",
    "    'LVL0',\n",
    "    'study',\n",
    "    ]\n",
    "\n",
    "obs_subset = scarftools.create_obs_subset(data_dir, filter_column, filter_values, additional_cols_keep)\n",
    "\n",
    "\n",
    "# update this to return to the user which values aren't present"
   ]
  },
  {
   "cell_type": "markdown",
   "id": "metric-worst",
   "metadata": {},
   "source": [
    "## Load only a slice of the original data into memory "
   ]
  },
  {
   "cell_type": "code",
   "execution_count": null,
   "id": "violent-engineering",
   "metadata": {},
   "outputs": [],
   "source": [
    "input_settings = {\n",
    "    'data_dir' : data_dir,\n",
    "    'filter_column_obs' : 'LVL1',\n",
    "    'filter_values_obs' : ['Cardiomyocytes'],#, 'Haematopoeitic_lineage', 'Endothelial'],\n",
    "    'additional_cols_keep_obs' : ['LVL0','study',], # leave empty will install all\n",
    "    'filter_column_var' : [],\n",
    "    \n",
    "    'filter_layers' : [],\n",
    "    'filter_obsm' : [],\n",
    "    'filter_obsp' : [],\n",
    "    'filter_varm' : [],\n",
    "    'filter_varp' : [],\n",
    "    'filter_uns' : [],\n",
    "    \n",
    "    'keep_layers' : False,\n",
    "    'keep_obsm' : False,\n",
    "    'keep_obsp' : False,\n",
    "    'keep_varm' : False,\n",
    "    'keep_varp' : False,\n",
    "    'keep_uns' : False,\n",
    "    \n",
    "}\n",
    "\n",
    "adata_slice = scarftools.create_anndata_subset(**input_settings)"
   ]
  },
  {
   "cell_type": "code",
   "execution_count": null,
   "id": "expanded-blocking",
   "metadata": {},
   "outputs": [],
   "source": [
    "adata_slice"
   ]
  },
  {
   "cell_type": "code",
   "execution_count": null,
   "id": "understanding-wright",
   "metadata": {},
   "outputs": [],
   "source": []
  }
 ],
 "metadata": {
  "language_info": {
   "name": "python"
  }
 },
 "nbformat": 4,
 "nbformat_minor": 5
}
