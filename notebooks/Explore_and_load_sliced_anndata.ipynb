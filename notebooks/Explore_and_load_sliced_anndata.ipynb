{
 "cells": [
  {
   "cell_type": "markdown",
   "id": "continental-cutting",
   "metadata": {},
   "source": [
    "## Import packages"
   ]
  },
  {
   "cell_type": "code",
   "execution_count": null,
   "id": "hidden-questionnaire",
   "metadata": {},
   "outputs": [],
   "source": [
    "import os, sys\n",
    "\n",
    "sys.path.append('../src/')\n",
    "\n",
    "import utils as h5py_custom_utils"
   ]
  },
  {
   "cell_type": "markdown",
   "id": "boring-wireless",
   "metadata": {},
   "source": [
    "## Set directory for file of interest"
   ]
  },
  {
   "cell_type": "code",
   "execution_count": null,
   "id": "extra-eclipse",
   "metadata": {},
   "outputs": [],
   "source": [
    "# Manual assignment\n",
    "#data_dir = ''\n",
    "\n",
    "# Import from variables.py for testing\n",
    "from variables import data_dir\n",
    "print(data_dir)"
   ]
  },
  {
   "cell_type": "markdown",
   "id": "convertible-shakespeare",
   "metadata": {},
   "source": [
    "## See what is in the file"
   ]
  },
  {
   "cell_type": "code",
   "execution_count": null,
   "id": "reduced-shape",
   "metadata": {},
   "outputs": [],
   "source": [
    "h5py_custom_utils.generate_anndata_report(data_dir)"
   ]
  },
  {
   "cell_type": "markdown",
   "id": "restricted-customs",
   "metadata": {},
   "source": [
    "## See unique values in columns of interest"
   ]
  },
  {
   "cell_type": "code",
   "execution_count": null,
   "id": "sunset-venture",
   "metadata": {},
   "outputs": [],
   "source": [
    "dataframe = 'obs' # choose obs or var \n",
    "columns = [\n",
    "    'LVL0', \n",
    "    'LVL1',\n",
    "    'study',\n",
    "    ]\n",
    "output_dataframe_name = 'df_investigate'\n",
    "\n",
    "h5py_custom_utils.investigate_obs_columns_unique_contents(data_dir, output_dataframe_name, dataframe, columns)"
   ]
  },
  {
   "cell_type": "markdown",
   "id": "attached-artwork",
   "metadata": {},
   "source": [
    "## Make a pandas dataframe for only data of interest and selected columns from obs"
   ]
  },
  {
   "cell_type": "code",
   "execution_count": null,
   "id": "discrete-concern",
   "metadata": {},
   "outputs": [],
   "source": [
    "filter_column = 'LVL0'\n",
    "filter_values = [\n",
    "    'Haematopoeitic_lineage', \n",
    "    'Epithelial',\n",
    "    'Endothelial'\n",
    "    ]\n",
    "additional_cols_keep = [\n",
    "    'LVL1',\n",
    "    'study',\n",
    "    ]\n",
    "\n",
    "obs_subset = h5py_custom_utils.create_obs_subset(data_dir, filter_column, filter_values, additional_cols_keep)"
   ]
  },
  {
   "cell_type": "markdown",
   "id": "excited-slovenia",
   "metadata": {},
   "source": [
    "## Load only a slice of the original data into memory "
   ]
  },
  {
   "cell_type": "code",
   "execution_count": null,
   "id": "embedded-groove",
   "metadata": {},
   "outputs": [],
   "source": [
    "input_settings = {\n",
    "    'data_dir' : data_dir,\n",
    "    'filter_column_obs' : 'LVL0',\n",
    "    'filter_values_obs' : ['Epithelial'],#, 'Haematopoeitic_lineage', 'Endothelial'],\n",
    "    'additional_cols_keep_obs' : ['LVL1','study',],\n",
    "    'filter_column_var' : [],\n",
    "    'keep_layers' : False,\n",
    "    'filter_layers' : [],\n",
    "    'keep_obsm' : False,\n",
    "    'filter_obsm' : [],\n",
    "    'keep_obsp' : False,\n",
    "    'filter_obsp' : [],\n",
    "    'keep_varm' : False,\n",
    "    'filter_varm' : [],\n",
    "    'keep_varp' : False,\n",
    "    'filter_varp' : [],\n",
    "    'keep_uns' : False,\n",
    "    'filter_uns' : [],\n",
    "}\n",
    "\n",
    "adata_slice = h5py_custom_utils.create_anndata_subset(input_settings)"
   ]
  },
  {
   "cell_type": "code",
   "execution_count": null,
   "id": "interim-above",
   "metadata": {},
   "outputs": [],
   "source": [
    "adata_slice"
   ]
  },
  {
   "cell_type": "code",
   "execution_count": null,
   "id": "approved-moscow",
   "metadata": {},
   "outputs": [],
   "source": []
  }
 ],
 "metadata": {
  "language_info": {
   "name": "python"
  }
 },
 "nbformat": 4,
 "nbformat_minor": 5
}
