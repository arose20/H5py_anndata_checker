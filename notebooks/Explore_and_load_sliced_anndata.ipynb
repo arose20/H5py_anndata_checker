{
 "cells": [
  {
   "cell_type": "markdown",
   "id": "elegant-attendance",
   "metadata": {},
   "source": [
    "## Import packages"
   ]
  },
  {
   "cell_type": "code",
   "execution_count": null,
   "id": "accepting-egyptian",
   "metadata": {},
   "outputs": [],
   "source": [
    "import os, sys\n",
    "\n",
    "sys.path.append('../src/')\n",
    "\n",
    "import utils as h5py_custom_utils"
   ]
  },
  {
   "cell_type": "markdown",
   "id": "experimental-accordance",
   "metadata": {},
   "source": [
    "## Set directory for file of interest"
   ]
  },
  {
   "cell_type": "code",
   "execution_count": null,
   "id": "hundred-winter",
   "metadata": {},
   "outputs": [],
   "source": [
    "data_dir = ''"
   ]
  },
  {
   "cell_type": "markdown",
   "id": "graphic-richards",
   "metadata": {},
   "source": [
    "## See what is in the file"
   ]
  },
  {
   "cell_type": "code",
   "execution_count": null,
   "id": "regional-remainder",
   "metadata": {},
   "outputs": [],
   "source": [
    "h5py_custom_utils.generate_anndata_report(data_dir)"
   ]
  },
  {
   "cell_type": "markdown",
   "id": "shared-crash",
   "metadata": {},
   "source": [
    "## See unique values in columns of interest"
   ]
  },
  {
   "cell_type": "code",
   "execution_count": null,
   "id": "integrated-september",
   "metadata": {},
   "outputs": [],
   "source": [
    "dataframe = 'obs' # choose obs or var \n",
    "columns = [\n",
    "    'LVL0', \n",
    "    'LVL1',\n",
    "    'study',\n",
    "    ]\n",
    "output_dataframe_name = 'df_investigate'\n",
    "\n",
    "h5py_custom_utils.investigate_obs_columns_unique_contents(data_dir, output_dataframe_name, dataframe, columns)"
   ]
  },
  {
   "cell_type": "markdown",
   "id": "allied-campus",
   "metadata": {},
   "source": [
    "## Make a pandas dataframe for only data of interest and selected columns from obs"
   ]
  },
  {
   "cell_type": "code",
   "execution_count": null,
   "id": "subtle-berlin",
   "metadata": {},
   "outputs": [],
   "source": [
    "filter_column = 'LVL1'\n",
    "filter_values = [\n",
    "    'Cardiomyocytes', \n",
    "    #'Glial',\n",
    "    ]\n",
    "additional_cols_keep = [\n",
    "    'LVL0',\n",
    "    'study',\n",
    "    ]\n",
    "\n",
    "obs_subset = h5py_custom_utils.create_obs_subset(data_dir, filter_column, filter_values, additional_cols_keep)"
   ]
  },
  {
   "cell_type": "markdown",
   "id": "understanding-trial",
   "metadata": {},
   "source": [
    "## Load only a slice of the original data into memory "
   ]
  },
  {
   "cell_type": "code",
   "execution_count": null,
   "id": "skilled-clone",
   "metadata": {},
   "outputs": [],
   "source": [
    "input_settings = {\n",
    "    'data_dir' : data_dir,\n",
    "    'filter_column_obs' : 'LVL1',\n",
    "    'filter_values_obs' : ['Cardiomyocytes'],#, 'Glial',],\n",
    "    'additional_cols_keep_obs' : ['LVL0','study',],\n",
    "    'filter_column_var' : [],\n",
    "    'keep_layers' : False,\n",
    "    'filter_layers' : [],\n",
    "    'keep_obsm' : False,\n",
    "    'filter_obsm' : [],\n",
    "    'keep_obsp' : False,\n",
    "    'filter_obsp' : [],\n",
    "    'keep_varm' : False,\n",
    "    'filter_varm' : [],\n",
    "    'keep_varp' : False,\n",
    "    'filter_varp' : [],\n",
    "    'keep_uns' : False,\n",
    "    'filter_uns' : [],\n",
    "}\n",
    "\n",
    "adata_slice = h5py_custom_utils.create_anndata_subset(**input_settings)"
   ]
  },
  {
   "cell_type": "code",
   "execution_count": null,
   "id": "reported-concord",
   "metadata": {},
   "outputs": [],
   "source": []
  },
  {
   "cell_type": "code",
   "execution_count": null,
   "id": "infinite-pendant",
   "metadata": {},
   "outputs": [],
   "source": []
  },
  {
   "cell_type": "code",
   "execution_count": null,
   "id": "excited-manchester",
   "metadata": {},
   "outputs": [],
   "source": [
    "print('Test')"
   ]
  },
  {
   "cell_type": "code",
   "execution_count": null,
   "id": "obvious-lemon",
   "metadata": {},
   "outputs": [],
   "source": [
    "print('Test2')"
   ]
  },
  {
   "cell_type": "code",
   "execution_count": null,
   "id": "offensive-operator",
   "metadata": {},
   "outputs": [],
   "source": [
    "print('Test3')"
   ]
  },
  {
   "cell_type": "code",
   "execution_count": null,
   "id": "south-construction",
   "metadata": {},
   "outputs": [],
   "source": [
    "print('Test4')"
   ]
  },
  {
   "cell_type": "code",
   "execution_count": null,
   "id": "composite-moscow",
   "metadata": {},
   "outputs": [],
   "source": [
    "print('Test5')"
   ]
  },
  {
   "cell_type": "code",
   "execution_count": null,
   "id": "functional-voice",
   "metadata": {},
   "outputs": [],
   "source": [
    "print('Test6')"
   ]
  },
  {
   "cell_type": "code",
   "execution_count": null,
   "id": "liquid-orleans",
   "metadata": {},
   "outputs": [],
   "source": []
  }
 ],
 "metadata": {
  "language_info": {
   "name": "python"
  }
 },
 "nbformat": 4,
 "nbformat_minor": 5
}
