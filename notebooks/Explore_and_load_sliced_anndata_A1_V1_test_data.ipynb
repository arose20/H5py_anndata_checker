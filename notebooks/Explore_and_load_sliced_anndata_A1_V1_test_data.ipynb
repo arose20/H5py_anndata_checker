{
 "cells": [
  {
   "cell_type": "markdown",
   "id": "pregnant-percentage",
   "metadata": {},
   "source": [
    "## Import packages"
   ]
  },
  {
   "cell_type": "code",
   "execution_count": null,
   "id": "continuing-defense",
   "metadata": {},
   "outputs": [],
   "source": [
    "import os, sys\n",
    "\n",
    "sys.path.append('../')\n",
    "\n",
    "import src.scH5Loader as scH5Loader"
   ]
  },
  {
   "cell_type": "markdown",
   "id": "viral-cooper",
   "metadata": {},
   "source": [
    "## Set directory for file of interest"
   ]
  },
  {
   "cell_type": "code",
   "execution_count": null,
   "id": "million-pocket",
   "metadata": {},
   "outputs": [],
   "source": [
    "data_dir = '/nfs/team298/ar32/repos/H5py_anndata_checker/dummy_data/test_adata.h5ad'\n",
    "print(data_dir)"
   ]
  },
  {
   "cell_type": "markdown",
   "id": "endless-sudan",
   "metadata": {},
   "source": [
    "## See what is in the file"
   ]
  },
  {
   "cell_type": "code",
   "execution_count": null,
   "id": "synthetic-venue",
   "metadata": {},
   "outputs": [],
   "source": [
    "scH5Loader.generate_anndata_report(data_dir)"
   ]
  },
  {
   "cell_type": "markdown",
   "id": "public-border",
   "metadata": {},
   "source": [
    "## See unique values in columns of interest"
   ]
  },
  {
   "cell_type": "code",
   "execution_count": null,
   "id": "reasonable-crowd",
   "metadata": {},
   "outputs": [],
   "source": [
    "dataframe = 'obs'\n",
    "columns = [\n",
    "    'anno_LVL1', \n",
    "    'anno_LVL2',\n",
    "    'biological_unit'\n",
    "    ]\n",
    "\n",
    "print(\n",
    "    f\"\\033[1mDataFrame output to see all unique values for each column of interest in {dataframe}:\\033[0m\\n\"\n",
    ")\n",
    "scH5Loader.inspect_column_categories(data_dir, dataframe, columns)"
   ]
  },
  {
   "cell_type": "code",
   "execution_count": null,
   "id": "superior-shift",
   "metadata": {},
   "outputs": [],
   "source": [
    "dataframe = 'var' # choose obs or var \n",
    "columns = [\n",
    "    'hgnc',\n",
    "    'high_var'\n",
    "    ]\n",
    "\n",
    "# Display the DataFrame\n",
    "print(\n",
    "    f\"\\033[1mDataFrame output to see all unique values for each column of interest in {dataframe}:\\033[0m\\n\"\n",
    ")\n",
    "scH5Loader.inspect_column_categories(data_dir, dataframe, columns)"
   ]
  },
  {
   "cell_type": "markdown",
   "id": "fitting-contamination",
   "metadata": {},
   "source": [
    "## Note: Displaying Column-Level Unique Categories, Not the Entire DataFrame!\n",
    "\n",
    "If you had 5 unique categories in a column, removed 2 unique values leaving only 3 unique values, the column-level metadata may still report 5 unique categories and this is what h5py will report to the user. \n",
    "\n",
    "This discrepancy can occur if you haven't updated the column metadata by removing unused categories using the following code:\n",
    "\n",
    "```python\n",
    "# Update the column-level metadata to remove unused categories\n",
    "df_subset['column'] = df_subset['column'].cat.remove_unused_categories()\n",
    "```\n",
    "\n",
    "To account for above, prior to loading in the data check that all the unique categories of interest are actually still in the data and haven't been sliced out"
   ]
  },
  {
   "cell_type": "markdown",
   "id": "acknowledged-passion",
   "metadata": {},
   "source": [
    "## Make a pandas dataframe for only data of interest and selected columns from obs"
   ]
  },
  {
   "cell_type": "code",
   "execution_count": null,
   "id": "better-circuit",
   "metadata": {},
   "outputs": [],
   "source": [
    "dataframe = 'obs'\n",
    "\n",
    "filter_dict = {\n",
    "    \n",
    "    'anno_LVL1' : ['haematopoetic'],\n",
    "    'anno_LVL2' : ['macrophage']\n",
    "}\n",
    "\n",
    "additional_cols_keep = [\n",
    "    'biological_unit',\n",
    "    ]\n",
    "\n",
    "filter_method = 'intersection'\n",
    "#filter_method = 'union'\n",
    "\n",
    "\n",
    "print(\n",
    "        f\"\\033[1mDataFrame output of {dataframe} subset by columns {list(filter_dict.keys())} by {filter_method} for values of interest:\\033[0m\\n\"\n",
    "    )\n",
    "scH5Loader.create_dataframe_subset(data_dir, dataframe, filter_dict, additional_cols_keep, filter_method)"
   ]
  },
  {
   "cell_type": "code",
   "execution_count": null,
   "id": "handled-communist",
   "metadata": {},
   "outputs": [],
   "source": [
    "dataframe = 'obs'\n",
    "\n",
    "filter_dict = {\n",
    "    \n",
    "    'anno_LVL1' : ['haematopoetic'],\n",
    "    'anno_LVL2' : ['hepatocyte']\n",
    "}\n",
    "\n",
    "additional_cols_keep = [\n",
    "    'biological_unit',\n",
    "    ]\n",
    "\n",
    "#filter_method = 'intersection'\n",
    "filter_method = 'union'\n",
    "\n",
    "\n",
    "print(\n",
    "        f\"\\033[1mDataFrame output of {dataframe} subset by columns {list(filter_dict.keys())} by {filter_method} for values of interest:\\033[0m\\n\"\n",
    "    )\n",
    "scH5Loader.create_dataframe_subset(data_dir, dataframe, filter_dict, additional_cols_keep, filter_method)"
   ]
  },
  {
   "cell_type": "markdown",
   "id": "serial-nurse",
   "metadata": {},
   "source": [
    "## Make a pandas dataframe for only data of interest and selected columns from var"
   ]
  },
  {
   "cell_type": "code",
   "execution_count": null,
   "id": "governmental-poultry",
   "metadata": {},
   "outputs": [],
   "source": [
    "dataframe = 'var'\n",
    "\n",
    "filter_dict = {\n",
    "    \n",
    "    'high_var' : ['yes'],\n",
    "}\n",
    "\n",
    "additional_cols_keep = []\n",
    "\n",
    "filter_method = 'intersection'\n",
    "#filter_method = 'union'\n",
    "\n",
    "\n",
    "print(\n",
    "        f\"\\033[1mDataFrame output of {dataframe} subset by columns {list(filter_dict.keys())} by {filter_method} for values of interest:\\033[0m\\n\"\n",
    "    )\n",
    "scH5Loader.create_dataframe_subset(data_dir, dataframe, filter_dict, additional_cols_keep, filter_method)"
   ]
  },
  {
   "cell_type": "markdown",
   "id": "mexican-sitting",
   "metadata": {},
   "source": [
    "## Load only a slice of the original data into memory "
   ]
  },
  {
   "cell_type": "code",
   "execution_count": null,
   "id": "regulated-disposal",
   "metadata": {},
   "outputs": [],
   "source": [
    "input_settings = {\n",
    "    'data_dir' : data_dir,\n",
    "    'obs_filter_dict' : {\n",
    "                        'anno_LVL1' : ['haematopoetic'],\n",
    "                        'anno_LVL2' : ['hepatocyte']\n",
    "                        },\n",
    "    'obs_additional_cols_keep' : [],\n",
    "    'obs_filter_method' : 'union',\n",
    "    'var_filter_dict' : {\n",
    "                        'high_var' : ['yes'],\n",
    "                        },\n",
    "    'var_additional_cols_keep' : [],\n",
    "    'var_filter_method' : 'intersection',\n",
    "    \n",
    "    'filter_layers' : [],\n",
    "    'filter_obsm' : [],\n",
    "    'filter_obsp' : [],\n",
    "    'filter_varm' : [],\n",
    "    'filter_varp' : [],\n",
    "    'filter_uns' : [],\n",
    "    \n",
    "    'keep_layers' : False,\n",
    "    'keep_obsm' : False,\n",
    "    'keep_obsp' : False,\n",
    "    'keep_varm' : False,\n",
    "    'keep_varp' : False,\n",
    "    'keep_uns' : False,\n",
    "    \n",
    "}\n",
    "\n",
    "adata = scH5Loader.create_anndata_subset(**input_settings)\n",
    "\n",
    "print(\"\")\n",
    "print(\"\")\n",
    "print(\"\\033[1mSubset anndata object generated successfully\\033[0m\\n\")\n",
    "print(\"\\033[1m\" + \"Anndata whole preview:\" + \"\\033[0m\")\n",
    "display(adata)\n",
    "print(\"\")\n",
    "print(\"\")\n",
    "print(\"\\033[1mQuick view of the anndata object generated\\033[0m\\n\")\n",
    "print(f\"Overall shape: {adata.shape}\")\n",
    "print(f\"Min count: {adata.X.min()}\")\n",
    "print(f\"Max count: {adata.X.max()}\")\n",
    "print(\"\")\n",
    "print(\"\\033[1m\" + \"obs preview:\" + \"\\033[0m\")\n",
    "display(adata.obs)\n",
    "print(\"\")\n",
    "print(\"\\033[1m\" + \"var preview:\" + \"\\033[0m\")\n",
    "display(adata.var)\n",
    "print(\"\")"
   ]
  },
  {
   "cell_type": "code",
   "execution_count": null,
   "id": "brilliant-mobility",
   "metadata": {},
   "outputs": [],
   "source": []
  },
  {
   "cell_type": "code",
   "execution_count": null,
   "id": "amazing-memorabilia",
   "metadata": {},
   "outputs": [],
   "source": []
  },
  {
   "cell_type": "code",
   "execution_count": null,
   "id": "liable-press",
   "metadata": {},
   "outputs": [],
   "source": []
  },
  {
   "cell_type": "code",
   "execution_count": null,
   "id": "promising-france",
   "metadata": {},
   "outputs": [],
   "source": []
  },
  {
   "cell_type": "code",
   "execution_count": null,
   "id": "scheduled-funeral",
   "metadata": {},
   "outputs": [],
   "source": []
  },
  {
   "cell_type": "code",
   "execution_count": null,
   "id": "southwest-columbia",
   "metadata": {},
   "outputs": [],
   "source": []
  },
  {
   "cell_type": "code",
   "execution_count": null,
   "id": "editorial-saver",
   "metadata": {},
   "outputs": [],
   "source": []
  },
  {
   "cell_type": "code",
   "execution_count": null,
   "id": "representative-geology",
   "metadata": {},
   "outputs": [],
   "source": []
  }
 ],
 "metadata": {
  "language_info": {
   "name": "python"
  }
 },
 "nbformat": 4,
 "nbformat_minor": 5
}
