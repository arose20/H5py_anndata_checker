{
 "cells": [
  {
   "cell_type": "markdown",
   "id": "utility-session",
   "metadata": {},
   "source": [
    "## Import packages"
   ]
  },
  {
   "cell_type": "code",
   "execution_count": null,
   "id": "wicked-values",
   "metadata": {},
   "outputs": [],
   "source": [
    "import os, sys\n",
    "\n",
    "sys.path.append('../')\n",
    "\n",
    "import src as h5py_custom_utils"
   ]
  },
  {
   "cell_type": "markdown",
   "id": "concrete-ferry",
   "metadata": {},
   "source": [
    "## Set directory for file of interest"
   ]
  },
  {
   "cell_type": "code",
   "execution_count": null,
   "id": "mineral-monkey",
   "metadata": {},
   "outputs": [],
   "source": [
    "data_dir = h5py_custom_utils.data_dir\n",
    "print(data_dir)"
   ]
  },
  {
   "cell_type": "markdown",
   "id": "alert-suite",
   "metadata": {},
   "source": [
    "## See what is in the file"
   ]
  },
  {
   "cell_type": "code",
   "execution_count": null,
   "id": "considered-artist",
   "metadata": {},
   "outputs": [],
   "source": [
    "h5py_custom_utils.generate_anndata_report(data_dir)"
   ]
  },
  {
   "cell_type": "markdown",
   "id": "positive-underwear",
   "metadata": {},
   "source": [
    "## See unique values in columns of interest"
   ]
  },
  {
   "cell_type": "code",
   "execution_count": null,
   "id": "bearing-providence",
   "metadata": {},
   "outputs": [],
   "source": [
    "dataframe = 'obs' # choose obs or var \n",
    "columns = [\n",
    "    'LVL0', \n",
    "    'LVL1',\n",
    "    'study',\n",
    "    ]\n",
    "output_dataframe_name = 'df_investigate'\n",
    "\n",
    "h5py_custom_utils.investigate_obs_columns_unique_contents(data_dir, output_dataframe_name, dataframe, columns)"
   ]
  },
  {
   "cell_type": "markdown",
   "id": "charged-landing",
   "metadata": {},
   "source": [
    "## Make a pandas dataframe for only data of interest and selected columns from obs"
   ]
  },
  {
   "cell_type": "code",
   "execution_count": null,
   "id": "pharmaceutical-restoration",
   "metadata": {},
   "outputs": [],
   "source": [
    "filter_column = 'LVL0'\n",
    "filter_values = [\n",
    "    'Haematopoeitic_lineage', \n",
    "    'Epithelial',\n",
    "    'Endothelial'\n",
    "    ]\n",
    "additional_cols_keep = [\n",
    "    'LVL1',\n",
    "    'study',\n",
    "    ]\n",
    "\n",
    "obs_subset = h5py_custom_utils.create_obs_subset(data_dir, filter_column, filter_values, additional_cols_keep)"
   ]
  },
  {
   "cell_type": "markdown",
   "id": "sudden-concert",
   "metadata": {},
   "source": [
    "## Load only a slice of the original data into memory "
   ]
  },
  {
   "cell_type": "code",
   "execution_count": null,
   "id": "hispanic-intellectual",
   "metadata": {},
   "outputs": [],
   "source": [
    "input_settings = {\n",
    "    'data_dir' : data_dir,\n",
    "    'filter_column_obs' : 'LVL0',\n",
    "    'filter_values_obs' : ['Epithelial'],#, 'Haematopoeitic_lineage', 'Endothelial'],\n",
    "    'additional_cols_keep_obs' : ['LVL1','study',],\n",
    "    'filter_column_var' : [],\n",
    "    'keep_layers' : False,\n",
    "    'filter_layers' : [],\n",
    "    'keep_obsm' : False,\n",
    "    'filter_obsm' : [],\n",
    "    'keep_obsp' : False,\n",
    "    'filter_obsp' : [],\n",
    "    'keep_varm' : False,\n",
    "    'filter_varm' : [],\n",
    "    'keep_varp' : False,\n",
    "    'filter_varp' : [],\n",
    "    'keep_uns' : False,\n",
    "    'filter_uns' : [],\n",
    "}\n",
    "\n",
    "adata_slice = h5py_custom_utils.create_anndata_subset(input_settings)"
   ]
  },
  {
   "cell_type": "code",
   "execution_count": null,
   "id": "later-occasion",
   "metadata": {},
   "outputs": [],
   "source": [
    "adata_slice"
   ]
  },
  {
   "cell_type": "code",
   "execution_count": null,
   "id": "inclusive-treasure",
   "metadata": {},
   "outputs": [],
   "source": []
  }
 ],
 "metadata": {
  "language_info": {
   "name": "python"
  }
 },
 "nbformat": 4,
 "nbformat_minor": 5
}
