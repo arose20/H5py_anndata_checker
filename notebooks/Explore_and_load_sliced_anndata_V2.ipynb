{
 "cells": [
  {
   "cell_type": "markdown",
   "id": "social-harrison",
   "metadata": {},
   "source": [
    "## Import packages"
   ]
  },
  {
   "cell_type": "code",
   "execution_count": null,
   "id": "enabling-spirituality",
   "metadata": {},
   "outputs": [],
   "source": [
    "import os, sys\n",
    "\n",
    "sys.path.append('../')\n",
    "\n",
    "import src as h5py_custom_utils"
   ]
  },
  {
   "cell_type": "markdown",
   "id": "chemical-receiver",
   "metadata": {},
   "source": [
    "## Set directory for file of interest"
   ]
  },
  {
   "cell_type": "code",
   "execution_count": null,
   "id": "statistical-giving",
   "metadata": {},
   "outputs": [],
   "source": [
    "data_dir = h5py_custom_utils.data_dir\n",
    "print(data_dir)"
   ]
  },
  {
   "cell_type": "markdown",
   "id": "specialized-attachment",
   "metadata": {},
   "source": [
    "## See what is in the file"
   ]
  },
  {
   "cell_type": "code",
   "execution_count": null,
   "id": "cognitive-softball",
   "metadata": {},
   "outputs": [],
   "source": [
    "h5py_custom_utils.generate_anndata_report(data_dir)"
   ]
  },
  {
   "cell_type": "markdown",
   "id": "mysterious-retailer",
   "metadata": {},
   "source": [
    "## See unique values in columns of interest"
   ]
  },
  {
   "cell_type": "code",
   "execution_count": null,
   "id": "assured-dynamics",
   "metadata": {},
   "outputs": [],
   "source": [
    "dataframe = 'obs' # choose obs or var \n",
    "columns = [\n",
    "    'LVL0', \n",
    "    'LVL1',\n",
    "    'study',\n",
    "    ]\n",
    "output_dataframe_name = 'df_investigate'\n",
    "\n",
    "h5py_custom_utils.investigate_obs_columns_unique_contents(data_dir, output_dataframe_name, dataframe, columns)"
   ]
  },
  {
   "cell_type": "markdown",
   "id": "brazilian-friendly",
   "metadata": {},
   "source": [
    "## Note: Displaying Column-Level Unique Categories, Not the Entire DataFrame!\n",
    "\n",
    "If you had 5 unique categories in a column and removed 2 unique values to leave 3 unique values, the column-level metadata, which h5py will read, may still report 5 unique categories. \n",
    "\n",
    "This discrepancy can occur, especially if you haven't updated the column metadata by removing unused categories using the following code:\n",
    "\n",
    "```python\n",
    "# Update the column-level metadata to remove unused categories\n",
    "df_subset['column'] = df_subset['column'].cat.remove_unused_categories()\n",
    "```\n",
    "\n",
    "To account for above, prior to loading in the data check that all the unique categories of interest are actually still in the data and haven't been sliced out"
   ]
  },
  {
   "cell_type": "markdown",
   "id": "burning-milton",
   "metadata": {},
   "source": [
    "## Make a pandas dataframe for only data of interest and selected columns from obs"
   ]
  },
  {
   "cell_type": "code",
   "execution_count": null,
   "id": "transsexual-qualification",
   "metadata": {},
   "outputs": [],
   "source": [
    "filter_column = 'LVL1'\n",
    "filter_values = [\n",
    "    'Cardiomyocytes', \n",
    "    #'Epithelial',\n",
    "    #'Endothelial'\n",
    "    ]\n",
    "additional_cols_keep = [\n",
    "    'LVL1',\n",
    "    'study',\n",
    "    ]\n",
    "\n",
    "obs_subset = h5py_custom_utils.create_obs_subset(data_dir, filter_column, filter_values, additional_cols_keep)"
   ]
  },
  {
   "cell_type": "markdown",
   "id": "cathedral-knitting",
   "metadata": {},
   "source": [
    "## Load only a slice of the original data into memory "
   ]
  },
  {
   "cell_type": "code",
   "execution_count": null,
   "id": "stopped-drain",
   "metadata": {},
   "outputs": [],
   "source": [
    "input_settings = {\n",
    "    'data_dir' : data_dir,\n",
    "    'filter_column_obs' : 'LVL1',\n",
    "    'filter_values_obs' : ['Cardiomyocytes'],#, 'Haematopoeitic_lineage', 'Endothelial'],\n",
    "    'additional_cols_keep_obs' : ['LVL0','study',],\n",
    "    'filter_column_var' : [],\n",
    "    'keep_layers' : False,\n",
    "    'filter_layers' : [],\n",
    "    'keep_obsm' : False,\n",
    "    'filter_obsm' : [],\n",
    "    'keep_obsp' : False,\n",
    "    'filter_obsp' : [],\n",
    "    'keep_varm' : False,\n",
    "    'filter_varm' : [],\n",
    "    'keep_varp' : False,\n",
    "    'filter_varp' : [],\n",
    "    'keep_uns' : False,\n",
    "    'filter_uns' : [],\n",
    "}\n",
    "\n",
    "adata_slice = h5py_custom_utils.create_anndata_subset(input_settings)"
   ]
  },
  {
   "cell_type": "code",
   "execution_count": null,
   "id": "lasting-translation",
   "metadata": {},
   "outputs": [],
   "source": [
    "adata_slice"
   ]
  },
  {
   "cell_type": "code",
   "execution_count": null,
   "id": "handled-chick",
   "metadata": {},
   "outputs": [],
   "source": []
  }
 ],
 "metadata": {
  "language_info": {
   "name": "python"
  }
 },
 "nbformat": 4,
 "nbformat_minor": 5
}
